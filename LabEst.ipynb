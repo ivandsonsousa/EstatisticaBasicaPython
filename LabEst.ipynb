{
 "cells": [
  {
   "cell_type": "markdown",
   "id": "f31e00d8-edd2-4e2a-9a8a-ee4767496022",
   "metadata": {},
   "source": [
    "# Laboratórios de Estatística com o python"
   ]
  },
  {
   "cell_type": "markdown",
   "id": "897ceae0-1da9-49a3-8d4f-51dada092a33",
   "metadata": {},
   "source": [
    "Este curso é uma adaptação dos laboratórios de estatística disponíveis no livro **OpenIntro Statistics: Labs for R** [@openintro]. Aqui, usamos as principais biliotecas do R para desenvolver aquilo que é proposto nos capítulos (laboratórios) do livro. Em cada caso, usamos também gráficos e tabelas para auxiliar no aprendizado dos conceitos estatísticos  envolvidos.\n",
    "\n",
    "Todas as análises realizadas neste livro são subsidiadas por bases de dados reais, públicas, disponibilizadas pelos autores do livro [@datasets]. Além disso, como bibliografia complementar, utilizamos o livro-texto de Estatística Básica dos autores Bussab & Morettin [@bussab_morettin].\n",
    "\n",
    "Por fim, ressaltamos que o livro está em contínuo desenvolvimento e, dessa forma, melhorias podem ser implementadas a qualquer momento. No mesmo aspecto, sugestões são sempre bem vindas."
   ]
  },
  {
   "cell_type": "code",
   "execution_count": null,
   "id": "7f56b519-1580-4791-a16a-7b5f8c52debc",
   "metadata": {},
   "outputs": [],
   "source": []
  }
 ],
 "metadata": {
  "kernelspec": {
   "display_name": "Python 3 (ipykernel)",
   "language": "python",
   "name": "python3"
  },
  "language_info": {
   "codemirror_mode": {
    "name": "ipython",
    "version": 3
   },
   "file_extension": ".py",
   "mimetype": "text/x-python",
   "name": "python",
   "nbconvert_exporter": "python",
   "pygments_lexer": "ipython3",
   "version": "3.11.3"
  }
 },
 "nbformat": 4,
 "nbformat_minor": 5
}
