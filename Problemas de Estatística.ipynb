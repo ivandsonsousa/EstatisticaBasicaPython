{
 "cells": [
  {
   "cell_type": "markdown",
   "id": "41e6e686-2b67-4086-9a26-9681451809c4",
   "metadata": {},
   "source": [
    "# Solução de Problemas de Estatística com python\n",
    "\n",
    "---\n",
    "\n",
    "Este notebook contêm soluções de alguns problemas do livro de estatística básica dos autores Bussab & Morettin (MORETTIN, Pedro A.; BUSSAB, Wilton O. Estatística básica. Saraiva Educação SA, 2017.)"
   ]
  },
  {
   "cell_type": "code",
   "execution_count": 1,
   "id": "8524d468-1cce-49dd-8bf8-5fc9c6a7f5da",
   "metadata": {},
   "outputs": [],
   "source": [
    "import pandas as pd, seaborn as sns, matplotlib.pyplot as plt, numpy as np\n",
    "sns.set(font_scale=1.5)"
   ]
  },
  {
   "cell_type": "markdown",
   "id": "f8c40bcf-6684-4166-878b-8fc722e925ca",
   "metadata": {},
   "source": [
    "## Capítulo 4 - Análise Bidimensional\n",
    "----"
   ]
  },
  {
   "cell_type": "markdown",
   "id": "a8876711-c4cb-427c-98f0-fe7358e3fb81",
   "metadata": {},
   "source": [
    "### Tabelas de Contingência"
   ]
  },
  {
   "cell_type": "code",
   "execution_count": 2,
   "id": "29e09640-36fe-4b72-adf6-b9a64f6d335e",
   "metadata": {},
   "outputs": [
    {
     "data": {
      "text/html": [
       "<div>\n",
       "<style scoped>\n",
       "    .dataframe tbody tr th:only-of-type {\n",
       "        vertical-align: middle;\n",
       "    }\n",
       "\n",
       "    .dataframe tbody tr th {\n",
       "        vertical-align: top;\n",
       "    }\n",
       "\n",
       "    .dataframe thead th {\n",
       "        text-align: right;\n",
       "    }\n",
       "</style>\n",
       "<table border=\"1\" class=\"dataframe\">\n",
       "  <thead>\n",
       "    <tr style=\"text-align: right;\">\n",
       "      <th></th>\n",
       "      <th>N</th>\n",
       "      <th>Estado_Civil</th>\n",
       "      <th>Grau_de_Instrução</th>\n",
       "      <th>N_de_Filhos</th>\n",
       "      <th>Salario_X_minimo</th>\n",
       "      <th>Idade_Anos</th>\n",
       "      <th>Idade_Meses</th>\n",
       "      <th>Região_de_Procedência</th>\n",
       "    </tr>\n",
       "  </thead>\n",
       "  <tbody>\n",
       "    <tr>\n",
       "      <th>0</th>\n",
       "      <td>1</td>\n",
       "      <td>solteiro</td>\n",
       "      <td>ensino fundamental</td>\n",
       "      <td>NaN</td>\n",
       "      <td>4.00</td>\n",
       "      <td>26</td>\n",
       "      <td>3</td>\n",
       "      <td>interior</td>\n",
       "    </tr>\n",
       "    <tr>\n",
       "      <th>1</th>\n",
       "      <td>2</td>\n",
       "      <td>casado</td>\n",
       "      <td>ensino fundamental</td>\n",
       "      <td>1.0</td>\n",
       "      <td>4.56</td>\n",
       "      <td>32</td>\n",
       "      <td>10</td>\n",
       "      <td>capital</td>\n",
       "    </tr>\n",
       "    <tr>\n",
       "      <th>2</th>\n",
       "      <td>3</td>\n",
       "      <td>casado</td>\n",
       "      <td>ensino fundamental</td>\n",
       "      <td>2.0</td>\n",
       "      <td>5.25</td>\n",
       "      <td>36</td>\n",
       "      <td>5</td>\n",
       "      <td>capital</td>\n",
       "    </tr>\n",
       "    <tr>\n",
       "      <th>3</th>\n",
       "      <td>4</td>\n",
       "      <td>solteiro</td>\n",
       "      <td>ensino médio</td>\n",
       "      <td>NaN</td>\n",
       "      <td>5.73</td>\n",
       "      <td>20</td>\n",
       "      <td>10</td>\n",
       "      <td>outra</td>\n",
       "    </tr>\n",
       "    <tr>\n",
       "      <th>4</th>\n",
       "      <td>5</td>\n",
       "      <td>solteiro</td>\n",
       "      <td>ensino fundamental</td>\n",
       "      <td>NaN</td>\n",
       "      <td>6.26</td>\n",
       "      <td>40</td>\n",
       "      <td>7</td>\n",
       "      <td>outra</td>\n",
       "    </tr>\n",
       "  </tbody>\n",
       "</table>\n",
       "</div>"
      ],
      "text/plain": [
       "   N Estado_Civil   Grau_de_Instrução  N_de_Filhos  Salario_X_minimo  \\\n",
       "0  1     solteiro  ensino fundamental          NaN              4.00   \n",
       "1  2       casado  ensino fundamental          1.0              4.56   \n",
       "2  3       casado  ensino fundamental          2.0              5.25   \n",
       "3  4     solteiro        ensino médio          NaN              5.73   \n",
       "4  5     solteiro  ensino fundamental          NaN              6.26   \n",
       "\n",
       "   Idade_Anos  Idade_Meses Região_de_Procedência  \n",
       "0          26            3              interior  \n",
       "1          32           10               capital  \n",
       "2          36            5               capital  \n",
       "3          20           10                 outra  \n",
       "4          40            7                 outra  "
      ]
     },
     "execution_count": 2,
     "metadata": {},
     "output_type": "execute_result"
    }
   ],
   "source": [
    "tab2_1 = pd.read_excel('dados\\Dados_EB_originais.xlsx', sheet_name='Tabela 2.1')\n",
    "tab2_1.head()"
   ]
  },
  {
   "cell_type": "markdown",
   "id": "fc4bb21c-a58b-4860-93dd-a43fe5991d5f",
   "metadata": {},
   "source": [
    "#### <font color = 'orange'> Problema 4.1 </font>\n",
    "\n",
    "Usando os dados da Tabela 2.1, Capítulo 2:"
   ]
  },
  {
   "cell_type": "markdown",
   "id": "8c6e80c1-68aa-4076-a9a8-ee1f8cab6c5e",
   "metadata": {},
   "source": [
    "##### a) Construa a distribuição de freqüência conjunta para as variáveis grau de instrução e região de procedência."
   ]
  },
  {
   "cell_type": "code",
   "execution_count": 3,
   "id": "b8b0b6d3-f3d4-4137-808a-c4206c35b0ef",
   "metadata": {},
   "outputs": [
    {
     "data": {
      "text/html": [
       "<div>\n",
       "<style scoped>\n",
       "    .dataframe tbody tr th:only-of-type {\n",
       "        vertical-align: middle;\n",
       "    }\n",
       "\n",
       "    .dataframe tbody tr th {\n",
       "        vertical-align: top;\n",
       "    }\n",
       "\n",
       "    .dataframe thead th {\n",
       "        text-align: right;\n",
       "    }\n",
       "</style>\n",
       "<table border=\"1\" class=\"dataframe\">\n",
       "  <thead>\n",
       "    <tr style=\"text-align: right;\">\n",
       "      <th>Região_de_Procedência</th>\n",
       "      <th>capital</th>\n",
       "      <th>interior</th>\n",
       "      <th>outra</th>\n",
       "    </tr>\n",
       "  </thead>\n",
       "  <tbody>\n",
       "    <tr>\n",
       "      <th>ensino fundamental</th>\n",
       "      <td>4</td>\n",
       "      <td>3</td>\n",
       "      <td>5</td>\n",
       "    </tr>\n",
       "    <tr>\n",
       "      <th>ensino médio</th>\n",
       "      <td>5</td>\n",
       "      <td>7</td>\n",
       "      <td>6</td>\n",
       "    </tr>\n",
       "    <tr>\n",
       "      <th>superior</th>\n",
       "      <td>2</td>\n",
       "      <td>2</td>\n",
       "      <td>2</td>\n",
       "    </tr>\n",
       "  </tbody>\n",
       "</table>\n",
       "</div>"
      ],
      "text/plain": [
       "Região_de_Procedência  capital  interior  outra\n",
       "ensino fundamental           4         3      5\n",
       "ensino médio                 5         7      6\n",
       "superior                     2         2      2"
      ]
     },
     "execution_count": 3,
     "metadata": {},
     "output_type": "execute_result"
    }
   ],
   "source": [
    "conting_tab = pd.crosstab(\n",
    "    index = tab2_1['Grau_de_Instrução'],\n",
    "    columns = tab2_1['Região_de_Procedência']\n",
    ")\n",
    "conting_tab.index.name = None\n",
    "conting_tab"
   ]
  },
  {
   "cell_type": "markdown",
   "id": "a73eceb2-27bc-4fc0-b8e4-bd62627eeabe",
   "metadata": {},
   "source": [
    "##### b) Qual a porcentagem de funcionários que têm o ensino médio? \n",
    "\n",
    "Aqui, precisamos normalizar em relação ao total geral. Vemos então que a resposta é 50%."
   ]
  },
  {
   "cell_type": "code",
   "execution_count": 4,
   "id": "f5ad9b9a-daec-4ebd-8963-f7a67dbb6175",
   "metadata": {},
   "outputs": [
    {
     "data": {
      "text/html": [
       "<div>\n",
       "<style scoped>\n",
       "    .dataframe tbody tr th:only-of-type {\n",
       "        vertical-align: middle;\n",
       "    }\n",
       "\n",
       "    .dataframe tbody tr th {\n",
       "        vertical-align: top;\n",
       "    }\n",
       "\n",
       "    .dataframe thead th {\n",
       "        text-align: right;\n",
       "    }\n",
       "</style>\n",
       "<table border=\"1\" class=\"dataframe\">\n",
       "  <thead>\n",
       "    <tr style=\"text-align: right;\">\n",
       "      <th>Região_de_Procedência</th>\n",
       "      <th>capital</th>\n",
       "      <th>interior</th>\n",
       "      <th>outra</th>\n",
       "      <th>Total</th>\n",
       "    </tr>\n",
       "  </thead>\n",
       "  <tbody>\n",
       "    <tr>\n",
       "      <th>ensino fundamental</th>\n",
       "      <td>11.11</td>\n",
       "      <td>8.33</td>\n",
       "      <td>13.89</td>\n",
       "      <td>33.33</td>\n",
       "    </tr>\n",
       "    <tr>\n",
       "      <th>ensino médio</th>\n",
       "      <td>13.89</td>\n",
       "      <td>19.44</td>\n",
       "      <td>16.67</td>\n",
       "      <td>50.00</td>\n",
       "    </tr>\n",
       "    <tr>\n",
       "      <th>superior</th>\n",
       "      <td>5.56</td>\n",
       "      <td>5.56</td>\n",
       "      <td>5.56</td>\n",
       "      <td>16.67</td>\n",
       "    </tr>\n",
       "    <tr>\n",
       "      <th>Total</th>\n",
       "      <td>30.56</td>\n",
       "      <td>33.33</td>\n",
       "      <td>36.11</td>\n",
       "      <td>100.00</td>\n",
       "    </tr>\n",
       "  </tbody>\n",
       "</table>\n",
       "</div>"
      ],
      "text/plain": [
       "Região_de_Procedência  capital  interior  outra   Total\n",
       "ensino fundamental       11.11      8.33  13.89   33.33\n",
       "ensino médio             13.89     19.44  16.67   50.00\n",
       "superior                  5.56      5.56   5.56   16.67\n",
       "Total                    30.56     33.33  36.11  100.00"
      ]
     },
     "execution_count": 4,
     "metadata": {},
     "output_type": "execute_result"
    }
   ],
   "source": [
    "conting_tab = pd.crosstab(\n",
    "    index = tab2_1['Grau_de_Instrução'],\n",
    "    columns = tab2_1['Região_de_Procedência'],\n",
    "    normalize = True,\n",
    "    margins=True,\n",
    "    margins_name = 'Total'\n",
    ")*100\n",
    "conting_tab.index.name = None\n",
    "conting_tab.round(2)"
   ]
  },
  {
   "cell_type": "markdown",
   "id": "9c65e277-09fa-4bcb-8fc2-ef9b866d406b",
   "metadata": {},
   "source": [
    "##### c) Qual a porcentagem daqueles que têm o ensino médio e são do interior? \n",
    "\n",
    "\n",
    "Conforme a tabela anterior, 19,44%."
   ]
  },
  {
   "cell_type": "markdown",
   "id": "e4b53383-962b-460c-8c15-ff138205c381",
   "metadata": {},
   "source": [
    "##### d) Dentre os funcionários do interior, quantos por cento têm o ensino médio? \n",
    "\n",
    "Aqui, precisamos expressar os percentuais em relação ao total das colunas. Conforme a tabela gerada, a resposta é 58,33%."
   ]
  },
  {
   "cell_type": "code",
   "execution_count": 5,
   "id": "a343943a-59da-4f3a-9b23-965474d3a757",
   "metadata": {},
   "outputs": [
    {
     "data": {
      "text/html": [
       "<div>\n",
       "<style scoped>\n",
       "    .dataframe tbody tr th:only-of-type {\n",
       "        vertical-align: middle;\n",
       "    }\n",
       "\n",
       "    .dataframe tbody tr th {\n",
       "        vertical-align: top;\n",
       "    }\n",
       "\n",
       "    .dataframe thead th {\n",
       "        text-align: right;\n",
       "    }\n",
       "</style>\n",
       "<table border=\"1\" class=\"dataframe\">\n",
       "  <thead>\n",
       "    <tr style=\"text-align: right;\">\n",
       "      <th>Região_de_Procedência</th>\n",
       "      <th>capital</th>\n",
       "      <th>interior</th>\n",
       "      <th>outra</th>\n",
       "      <th>Total</th>\n",
       "    </tr>\n",
       "  </thead>\n",
       "  <tbody>\n",
       "    <tr>\n",
       "      <th>ensino fundamental</th>\n",
       "      <td>36.36</td>\n",
       "      <td>25.00</td>\n",
       "      <td>38.46</td>\n",
       "      <td>33.33</td>\n",
       "    </tr>\n",
       "    <tr>\n",
       "      <th>ensino médio</th>\n",
       "      <td>45.45</td>\n",
       "      <td>58.33</td>\n",
       "      <td>46.15</td>\n",
       "      <td>50.00</td>\n",
       "    </tr>\n",
       "    <tr>\n",
       "      <th>superior</th>\n",
       "      <td>18.18</td>\n",
       "      <td>16.67</td>\n",
       "      <td>15.38</td>\n",
       "      <td>16.67</td>\n",
       "    </tr>\n",
       "  </tbody>\n",
       "</table>\n",
       "</div>"
      ],
      "text/plain": [
       "Região_de_Procedência  capital  interior  outra  Total\n",
       "ensino fundamental       36.36     25.00  38.46  33.33\n",
       "ensino médio             45.45     58.33  46.15  50.00\n",
       "superior                 18.18     16.67  15.38  16.67"
      ]
     },
     "execution_count": 5,
     "metadata": {},
     "output_type": "execute_result"
    }
   ],
   "source": [
    "conting_tab = pd.crosstab(\n",
    "    index = tab2_1['Grau_de_Instrução'],\n",
    "    columns = tab2_1['Região_de_Procedência'],\n",
    "    normalize = 'columns',\n",
    "    margins=True,\n",
    "    margins_name='Total'\n",
    ")*100\n",
    "conting_tab.index.name = None\n",
    "conting_tab.round(2)"
   ]
  },
  {
   "cell_type": "markdown",
   "id": "e7dbd7d9-3bdb-4260-80d4-17dc763eb2d1",
   "metadata": {},
   "source": [
    "#### <font color = 'orange'> Problema 4.2 </font>\n",
    "\n",
    "No problema anterior, sorteando um funcionário ao acaso entre os 36:"
   ]
  },
  {
   "cell_type": "markdown",
   "id": "5182dff3-b297-4978-a5ee-f42c9d327802",
   "metadata": {},
   "source": [
    "##### a) Qual será provavelmente o seu grau de instrução? \n",
    "\n",
    "\n",
    "Conforme item b) do problema anterior, ao selecionar um funcionário ao acaso, é mais provável que seu grau de instrução seja ensino médio, já que a proporção de pessoas com esse grau de instrução é o maior de todos."
   ]
  },
  {
   "cell_type": "markdown",
   "id": "e47c215d-8d01-476a-a4ce-69fd9c523958",
   "metadata": {},
   "source": [
    "##### b) E sua região de procedência?\n",
    "\n",
    "\n",
    "Da mesma forma, é mais provável que a região de procedência de um funcionário selecionado ao acaso seja aquela classificada como OUTRA."
   ]
  },
  {
   "cell_type": "markdown",
   "id": "f5b19994-e69c-41d5-b3a6-4b9e796518b8",
   "metadata": {},
   "source": [
    "##### c) Qual a probabilidade do sorteado ter nível superior? \n",
    "\n",
    "\n",
    "Ainda de acordo com o resultado do item b) do problema anterior, 16,67%."
   ]
  },
  {
   "cell_type": "markdown",
   "id": "d11d1ed8-b1c6-4cff-beb2-d81ba70065c8",
   "metadata": {},
   "source": [
    "##### d) Sabendo que o sorteado é do interior, qual a probabilidade de ele possuir nível superior? \n",
    "\n",
    "\n",
    "Usando novamente a tabela do item b) do problema anterior, vemos que é 16,67%."
   ]
  },
  {
   "cell_type": "markdown",
   "id": "ebac7dfe-ca6a-4cf6-9c5a-3221217d7b1c",
   "metadata": {},
   "source": [
    "##### e) Sabendo que o escolhido é da capital, qual a probabilidade de ele possuir nível superior? \n",
    "\n",
    "\n",
    "18,18%."
   ]
  },
  {
   "cell_type": "markdown",
   "id": "fc0a49ac-cc5d-439c-8348-1bdb4b388568",
   "metadata": {},
   "source": [
    "#### <font color = 'orange'> Problema 4.4 </font>\n",
    "\n",
    "\n",
    "Usando os dados do Problema 4.1, responda:"
   ]
  },
  {
   "cell_type": "markdown",
   "id": "1fe0c949-e37c-4883-bec9-0ab4fa493395",
   "metadata": {},
   "source": [
    "##### a) Qual a distribuição das proporções do grau de educação segundo cada uma das regiões de procedência? \n",
    "\n",
    "\n",
    "Replicada abaixo a partir do item d) do problema 4.1"
   ]
  },
  {
   "cell_type": "code",
   "execution_count": 6,
   "id": "bb3e7f8d-64ba-4c58-b95e-42eeb96943f3",
   "metadata": {},
   "outputs": [
    {
     "data": {
      "text/html": [
       "<div>\n",
       "<style scoped>\n",
       "    .dataframe tbody tr th:only-of-type {\n",
       "        vertical-align: middle;\n",
       "    }\n",
       "\n",
       "    .dataframe tbody tr th {\n",
       "        vertical-align: top;\n",
       "    }\n",
       "\n",
       "    .dataframe thead th {\n",
       "        text-align: right;\n",
       "    }\n",
       "</style>\n",
       "<table border=\"1\" class=\"dataframe\">\n",
       "  <thead>\n",
       "    <tr style=\"text-align: right;\">\n",
       "      <th>Região_de_Procedência</th>\n",
       "      <th>capital</th>\n",
       "      <th>interior</th>\n",
       "      <th>outra</th>\n",
       "      <th>Total</th>\n",
       "    </tr>\n",
       "  </thead>\n",
       "  <tbody>\n",
       "    <tr>\n",
       "      <th>ensino fundamental</th>\n",
       "      <td>36.36</td>\n",
       "      <td>25.00</td>\n",
       "      <td>38.46</td>\n",
       "      <td>33.33</td>\n",
       "    </tr>\n",
       "    <tr>\n",
       "      <th>ensino médio</th>\n",
       "      <td>45.45</td>\n",
       "      <td>58.33</td>\n",
       "      <td>46.15</td>\n",
       "      <td>50.00</td>\n",
       "    </tr>\n",
       "    <tr>\n",
       "      <th>superior</th>\n",
       "      <td>18.18</td>\n",
       "      <td>16.67</td>\n",
       "      <td>15.38</td>\n",
       "      <td>16.67</td>\n",
       "    </tr>\n",
       "  </tbody>\n",
       "</table>\n",
       "</div>"
      ],
      "text/plain": [
       "Região_de_Procedência  capital  interior  outra  Total\n",
       "ensino fundamental       36.36     25.00  38.46  33.33\n",
       "ensino médio             45.45     58.33  46.15  50.00\n",
       "superior                 18.18     16.67  15.38  16.67"
      ]
     },
     "execution_count": 6,
     "metadata": {},
     "output_type": "execute_result"
    }
   ],
   "source": [
    "conting_tab = pd.crosstab(\n",
    "    index = tab2_1['Grau_de_Instrução'],\n",
    "    columns = tab2_1['Região_de_Procedência'],\n",
    "    normalize = 'columns',\n",
    "    margins=True,\n",
    "    margins_name='Total'\n",
    ")*100\n",
    "conting_tab.index.name = None\n",
    "conting_tab.round(2)"
   ]
  },
  {
   "cell_type": "markdown",
   "id": "0e5c7a3a-657d-46ff-819e-b4c4b06be69c",
   "metadata": {},
   "source": [
    "##### b) Baseado no resultado anterior e no Problema 4.2, você diria que existe dependência entre a região de procedência e o nível de educação do funcionário? \n",
    "\n",
    "\n",
    "De acordo com a tabela de contingência gerada, vemos que 33,33% dos funcionários possuem ensino fundamental, 50% possuem ensino médio e 16,67% possuem ensino superior, independentemente da região de procedência. Essas proporções não se mantêm nas respectivas regiões, de modo que podemos concluir que existe dependência entre as variáveis **grau de instrução** e **região de procedência**."
   ]
  },
  {
   "cell_type": "markdown",
   "id": "b8bdb20d-92df-4e6a-96e2-c19717ac39ae",
   "metadata": {},
   "source": [
    "### Medidas de Associação entre Variáveis Qualitativas - qui-quadrado de Pearson"
   ]
  },
  {
   "cell_type": "markdown",
   "id": "27787408-6661-4d5e-b245-085db7884e0a",
   "metadata": {},
   "source": [
    "#### <font color = 'orange'> Problema 4.7 </font>\n",
    "\n",
    "\n",
    "Usando os dados do Problema 4.1, calcule o valor de $\\chi^2$ \r\n",
    "2 e o coeficiente de contingência C.\r\n",
    "Esses valores estão de acordo com as conclusões obtidas anteriormente?"
   ]
  },
  {
   "cell_type": "markdown",
   "id": "85de30b4-2fac-4ff0-9826-f943a56e7767",
   "metadata": {},
   "source": [
    "##### Para resolver esse problema, vamos importar a funçao `chi2_contingency()`, da biblioteca `scipy.stats`. Essa função executa um teste de hipótese para a independência das variáveis aleatórias em uma tabela de dupla entrada. Como argumento, passamos a respectiva tabela de contingência com as frequências absolutas. A função calcula as frequências esperadas com base nas somas marginais e, dessa forma, calcula o chi-quadrado de Person, que é o que nos interessa aqui."
   ]
  },
  {
   "cell_type": "code",
   "execution_count": 7,
   "id": "b8e3fc04-2897-4018-a3b9-72c681264fa5",
   "metadata": {},
   "outputs": [],
   "source": [
    "from scipy.stats import chi2_contingency"
   ]
  },
  {
   "cell_type": "code",
   "execution_count": 8,
   "id": "e2e0eabe-a077-4384-b33f-6c872f8ecdc4",
   "metadata": {},
   "outputs": [
    {
     "data": {
      "text/html": [
       "<div>\n",
       "<style scoped>\n",
       "    .dataframe tbody tr th:only-of-type {\n",
       "        vertical-align: middle;\n",
       "    }\n",
       "\n",
       "    .dataframe tbody tr th {\n",
       "        vertical-align: top;\n",
       "    }\n",
       "\n",
       "    .dataframe thead th {\n",
       "        text-align: right;\n",
       "    }\n",
       "</style>\n",
       "<table border=\"1\" class=\"dataframe\">\n",
       "  <thead>\n",
       "    <tr style=\"text-align: right;\">\n",
       "      <th>Região_de_Procedência</th>\n",
       "      <th>capital</th>\n",
       "      <th>interior</th>\n",
       "      <th>outra</th>\n",
       "    </tr>\n",
       "    <tr>\n",
       "      <th>Grau_de_Instrução</th>\n",
       "      <th></th>\n",
       "      <th></th>\n",
       "      <th></th>\n",
       "    </tr>\n",
       "  </thead>\n",
       "  <tbody>\n",
       "    <tr>\n",
       "      <th>ensino fundamental</th>\n",
       "      <td>4</td>\n",
       "      <td>3</td>\n",
       "      <td>5</td>\n",
       "    </tr>\n",
       "    <tr>\n",
       "      <th>ensino médio</th>\n",
       "      <td>5</td>\n",
       "      <td>7</td>\n",
       "      <td>6</td>\n",
       "    </tr>\n",
       "    <tr>\n",
       "      <th>superior</th>\n",
       "      <td>2</td>\n",
       "      <td>2</td>\n",
       "      <td>2</td>\n",
       "    </tr>\n",
       "  </tbody>\n",
       "</table>\n",
       "</div>"
      ],
      "text/plain": [
       "Região_de_Procedência  capital  interior  outra\n",
       "Grau_de_Instrução                              \n",
       "ensino fundamental           4         3      5\n",
       "ensino médio                 5         7      6\n",
       "superior                     2         2      2"
      ]
     },
     "execution_count": 8,
     "metadata": {},
     "output_type": "execute_result"
    }
   ],
   "source": [
    "conting_tab = pd.crosstab(\n",
    "    index = tab2_1['Grau_de_Instrução'],\n",
    "    columns = tab2_1['Região_de_Procedência']\n",
    ")\n",
    "conting_tab"
   ]
  },
  {
   "cell_type": "code",
   "execution_count": 9,
   "id": "c3d40df1-cb4d-43e7-bb41-34d23f9d98d8",
   "metadata": {},
   "outputs": [
    {
     "data": {
      "text/plain": [
       "(0.66, 0.96)"
      ]
     },
     "execution_count": 9,
     "metadata": {},
     "output_type": "execute_result"
    }
   ],
   "source": [
    "chi2_contingency(conting_tab).statistic.round(2), chi2_contingency(conting_tab).pvalue.round(2)"
   ]
  },
  {
   "cell_type": "markdown",
   "id": "6244cfaa-d8b3-4e1f-be67-fa78de23fe05",
   "metadata": {},
   "source": [
    "##### Obtivemos então a estatística do teste (o qui-quadrado de Pearson) e o p-valor do teste. Este último, por sua vez, indica que não podemos rejeitar a hipótese nula de independência entre a região de procedência e o grau de instrução, dada a amostra obtida. Essa conclusão é difente daquela que tiramos anteriormente apenas olhando para as frequências relativas na tabela de contingência."
   ]
  },
  {
   "cell_type": "markdown",
   "id": "c89746c6-6a02-477e-bd2f-d49746fa8d99",
   "metadata": {},
   "source": [
    "### Associação entre Variáveis Quantitativas e entre Qualitativas e Quantitativas"
   ]
  },
  {
   "cell_type": "markdown",
   "id": "13a984ce-5723-4772-b284-5fa5d42f1862",
   "metadata": {},
   "source": [
    "#### <font color = 'orange'> Problema 4.11 </font>\n",
    "\n",
    "\n",
    "Abaixo estão os dados referentes à porcentagem da população economicamente ativa\r\n",
    "empregada no setor primário e o respectivo índice de analfabetismo para algumas regiões\r\n",
    "metropolitanas brasileiras."
   ]
  },
  {
   "cell_type": "code",
   "execution_count": 10,
   "id": "a2b88065-c005-4b6e-962a-078ea2a45376",
   "metadata": {},
   "outputs": [
    {
     "data": {
      "text/html": [
       "<div>\n",
       "<style scoped>\n",
       "    .dataframe tbody tr th:only-of-type {\n",
       "        vertical-align: middle;\n",
       "    }\n",
       "\n",
       "    .dataframe tbody tr th {\n",
       "        vertical-align: top;\n",
       "    }\n",
       "\n",
       "    .dataframe thead th {\n",
       "        text-align: right;\n",
       "    }\n",
       "</style>\n",
       "<table border=\"1\" class=\"dataframe\">\n",
       "  <thead>\n",
       "    <tr style=\"text-align: right;\">\n",
       "      <th></th>\n",
       "      <th>Regioes_Metropolitanas</th>\n",
       "      <th>Setor_Primario</th>\n",
       "      <th>Indice_de_Analfabetismo</th>\n",
       "    </tr>\n",
       "  </thead>\n",
       "  <tbody>\n",
       "    <tr>\n",
       "      <th>0</th>\n",
       "      <td>São Paulo</td>\n",
       "      <td>2.0</td>\n",
       "      <td>17.5</td>\n",
       "    </tr>\n",
       "    <tr>\n",
       "      <th>1</th>\n",
       "      <td>Rio de Janeiro</td>\n",
       "      <td>2.5</td>\n",
       "      <td>18.5</td>\n",
       "    </tr>\n",
       "    <tr>\n",
       "      <th>2</th>\n",
       "      <td>Belém</td>\n",
       "      <td>2.9</td>\n",
       "      <td>19.5</td>\n",
       "    </tr>\n",
       "    <tr>\n",
       "      <th>3</th>\n",
       "      <td>Belo Horizonte</td>\n",
       "      <td>3.3</td>\n",
       "      <td>22.2</td>\n",
       "    </tr>\n",
       "    <tr>\n",
       "      <th>4</th>\n",
       "      <td>Salvador</td>\n",
       "      <td>4.1</td>\n",
       "      <td>26.5</td>\n",
       "    </tr>\n",
       "    <tr>\n",
       "      <th>5</th>\n",
       "      <td>Porto Alegre</td>\n",
       "      <td>4.3</td>\n",
       "      <td>16.6</td>\n",
       "    </tr>\n",
       "    <tr>\n",
       "      <th>6</th>\n",
       "      <td>Recife</td>\n",
       "      <td>7.0</td>\n",
       "      <td>36.6</td>\n",
       "    </tr>\n",
       "    <tr>\n",
       "      <th>7</th>\n",
       "      <td>Fortaleza</td>\n",
       "      <td>13.0</td>\n",
       "      <td>38.4</td>\n",
       "    </tr>\n",
       "  </tbody>\n",
       "</table>\n",
       "</div>"
      ],
      "text/plain": [
       "  Regioes_Metropolitanas  Setor_Primario  Indice_de_Analfabetismo\n",
       "0              São Paulo             2.0                     17.5\n",
       "1         Rio de Janeiro             2.5                     18.5\n",
       "2                  Belém             2.9                     19.5\n",
       "3         Belo Horizonte             3.3                     22.2\n",
       "4               Salvador             4.1                     26.5\n",
       "5           Porto Alegre             4.3                     16.6\n",
       "6                 Recife             7.0                     36.6\n",
       "7              Fortaleza            13.0                     38.4"
      ]
     },
     "execution_count": 10,
     "metadata": {},
     "output_type": "execute_result"
    }
   ],
   "source": [
    "dados = pd.DataFrame(\n",
    "    {'Regioes_Metropolitanas': ['São Paulo', 'Rio de Janeiro', 'Belém', 'Belo Horizonte', 'Salvador', 'Porto Alegre', 'Recife', 'Fortaleza'],\n",
    "     'Setor_Primario': [2, 2.5, 2.9, 3.3, 4.1, 4.3, 7, 13],\n",
    "     'Indice_de_Analfabetismo': [17.5, 18.5, 19.5, 22.2, 26.5, 16.6, 36.6, 38.4]\n",
    "    }\n",
    ")\n",
    "dados"
   ]
  },
  {
   "cell_type": "markdown",
   "id": "6c3185d1-80ce-44a2-a4b7-7f1432a0d2a7",
   "metadata": {},
   "source": [
    "##### a) Faça o diagrama de dispersão."
   ]
  },
  {
   "cell_type": "code",
   "execution_count": 11,
   "id": "c39d1dcf-52e1-400d-9ddc-3484d7573928",
   "metadata": {},
   "outputs": [
    {
     "data": {
      "image/png": "[encoded data removed]",
      "text/plain": [
       "<Figure size 1200x600 with 1 Axes>"
      ]
     },
     "metadata": {},
     "output_type": "display_data"
    }
   ],
   "source": [
    "ax = sns.scatterplot(x = 'Setor_Primario', y = 'Indice_de_Analfabetismo', data = dados, s = 100, color = 'orange')\n",
    "ax.figure.set_size_inches(12, 6)\n",
    "ax.set(xlabel = 'Setor Primário', ylabel = 'Índice de Analfabetismo')\n",
    "plt.show()"
   ]
  },
  {
   "cell_type": "markdown",
   "id": "44e03da6-196f-4d7e-a62b-c1db01ca04f3",
   "metadata": {},
   "source": [
    "##### b) Você acha que existe uma dependência linear entre as duas variáveis? \n",
    "\n",
    "\n",
    "Não existem dados suficientes para dizer se existe a relação linear entre as duas variáveis."
   ]
  },
  {
   "cell_type": "markdown",
   "id": "cade8cc2-fbcf-4c0c-b82b-9d363adb109d",
   "metadata": {},
   "source": [
    "##### c) Calcule o coeficiente de correlação. \n",
    "\n",
    "\n",
    "Vamos resolver esse usando as bibliotecas `numpy` e `scipy`:"
   ]
  },
  {
   "cell_type": "code",
   "execution_count": 12,
   "id": "adb7f16c-3430-4920-9d82-bf9c839078e7",
   "metadata": {},
   "outputs": [
    {
     "data": {
      "text/plain": [
       "array([[1.   , 0.867],\n",
       "       [0.867, 1.   ]])"
      ]
     },
     "execution_count": 12,
     "metadata": {},
     "output_type": "execute_result"
    }
   ],
   "source": [
    "np.corrcoef(dados['Setor_Primario'], dados['Indice_de_Analfabetismo']).round(3)"
   ]
  },
  {
   "cell_type": "code",
   "execution_count": 13,
   "id": "0568859c-40a6-40ad-9f08-f817ec577570",
   "metadata": {},
   "outputs": [],
   "source": [
    "from scipy.stats import pearsonr"
   ]
  },
  {
   "cell_type": "code",
   "execution_count": 14,
   "id": "8ffc0f9c-c5e9-4a74-9bf1-567ebef66248",
   "metadata": {},
   "outputs": [
    {
     "data": {
      "text/plain": [
       "PearsonRResult(statistic=0.8665609813458788, pvalue=0.005361419993407309)"
      ]
     },
     "execution_count": 14,
     "metadata": {},
     "output_type": "execute_result"
    }
   ],
   "source": [
    "pearsonr(dados['Indice_de_Analfabetismo'], dados['Setor_Primario'])"
   ]
  },
  {
   "cell_type": "markdown",
   "id": "6fec4230-38ab-49a6-97e3-d084824cfcb9",
   "metadata": {},
   "source": [
    "##### d) Existe alguma região com comportamento diferente das demais? Se existe, elimine o valor correspondente e recalcule o coeficiente de correlação. \n",
    "\n",
    "\n",
    "Os pontos referentes às cidades de Porto Alegre e Fortaleza parecem distoar dos demais. Vamos removê-los. Existem várias maneiras de fazer essa aqui. Vamos fazer com o método `query()`, do `pandas`:"
   ]
  },
  {
   "cell_type": "code",
   "execution_count": 15,
   "id": "cfa0f462-9280-46c0-ae79-cb503171e3be",
   "metadata": {},
   "outputs": [
    {
     "data": {
      "image/png": "[encoded data removed]",
      "text/plain": [
       "<Figure size 1200x600 with 1 Axes>"
      ]
     },
     "metadata": {},
     "output_type": "display_data"
    }
   ],
   "source": [
    "ax = sns.scatterplot(x = 'Setor_Primario', y = 'Indice_de_Analfabetismo', data = dados.query('Regioes_Metropolitanas not in [\"Porto Alegre\", \"Fortaleza\"]'), s = 100, color = 'red')\n",
    "ax.figure.set_size_inches(12,6)\n",
    "ax.set(xlabel = 'Setor Primário', ylabel = 'Índice de Analfabetismo')\n",
    "plt.show()"
   ]
  },
  {
   "cell_type": "markdown",
   "id": "96682f1a-666e-4b45-a562-608f77e7fcc2",
   "metadata": {},
   "source": [
    "##### Vamos também recalcular o coeficiente de correlação de Person:"
   ]
  },
  {
   "cell_type": "code",
   "execution_count": 16,
   "id": "3709e7f7-7624-4a37-92df-a0e5eca842fb",
   "metadata": {},
   "outputs": [
    {
     "data": {
      "text/plain": [
       "PearsonRResult(statistic=0.9941039583009691, pvalue=5.2042478619117965e-05)"
      ]
     },
     "execution_count": 16,
     "metadata": {},
     "output_type": "execute_result"
    }
   ],
   "source": [
    "selecao = dados.query('Regioes_Metropolitanas not in [\"Porto Alegre\", \"Fortaleza\"]')\n",
    "pearsonr(selecao['Setor_Primario'], selecao['Indice_de_Analfabetismo'])"
   ]
  },
  {
   "cell_type": "markdown",
   "id": "80407c6f-48b9-44f3-ae44-fc2e901763cd",
   "metadata": {},
   "source": [
    "##### Como podemos ver, o coeficiente de correlação sobe de 0.86 para 0.99 quando removemos os dois pontos distoantes."
   ]
  },
  {
   "cell_type": "markdown",
   "id": "9eec3faa-0eae-4882-b1e0-db55ab1809ce",
   "metadata": {},
   "source": [
    "#### <font color = 'orange'> Problema 4.13 </font>\n",
    "\n",
    "\n",
    "Quer se verificar a relação entre o tempo de reação e o número de alternativas apresen-\r\n",
    "tadas a indivíduos acostumados a tomadas de decisão. Planejou-se um experimento em\r\n",
    "que se pedia ao participante para classificar objetos segundo um critério previamente\r\n",
    "discutido. Participaram do experimento 15 executivos divididos aleatoriamente em grupos\r\n",
    "de cinco. Pediu-se, então, a cada grupo para classificar dois, três e quatro objetos,\r\n",
    "respectivamente. Os dados estãixo.o aba"
   ]
  },
  {
   "cell_type": "markdown",
   "id": "e4e03e0b-5c52-4e7d-ad09-0cc57063ebd9",
   "metadata": {},
   "source": [
    "Para resolver esse problema, vamos usar o método `repeat()`, do módulo `numpy`:"
   ]
  },
  {
   "cell_type": "code",
   "execution_count": 17,
   "id": "1e0202e5-ecec-4c2f-ac9a-95ac8def4f59",
   "metadata": {},
   "outputs": [
    {
     "data": {
      "text/html": [
       "<div>\n",
       "<style scoped>\n",
       "    .dataframe tbody tr th:only-of-type {\n",
       "        vertical-align: middle;\n",
       "    }\n",
       "\n",
       "    .dataframe tbody tr th {\n",
       "        vertical-align: top;\n",
       "    }\n",
       "\n",
       "    .dataframe thead th {\n",
       "        text-align: right;\n",
       "    }\n",
       "</style>\n",
       "<table border=\"1\" class=\"dataframe\">\n",
       "  <thead>\n",
       "    <tr style=\"text-align: right;\">\n",
       "      <th></th>\n",
       "      <th>N_Objetos</th>\n",
       "      <th>Tempo_Reacao</th>\n",
       "    </tr>\n",
       "  </thead>\n",
       "  <tbody>\n",
       "    <tr>\n",
       "      <th>0</th>\n",
       "      <td>2</td>\n",
       "      <td>1</td>\n",
       "    </tr>\n",
       "    <tr>\n",
       "      <th>1</th>\n",
       "      <td>2</td>\n",
       "      <td>2</td>\n",
       "    </tr>\n",
       "    <tr>\n",
       "      <th>2</th>\n",
       "      <td>2</td>\n",
       "      <td>3</td>\n",
       "    </tr>\n",
       "    <tr>\n",
       "      <th>3</th>\n",
       "      <td>2</td>\n",
       "      <td>3</td>\n",
       "    </tr>\n",
       "    <tr>\n",
       "      <th>4</th>\n",
       "      <td>2</td>\n",
       "      <td>4</td>\n",
       "    </tr>\n",
       "  </tbody>\n",
       "</table>\n",
       "</div>"
      ],
      "text/plain": [
       "   N_Objetos  Tempo_Reacao\n",
       "0          2             1\n",
       "1          2             2\n",
       "2          2             3\n",
       "3          2             3\n",
       "4          2             4"
      ]
     },
     "execution_count": 17,
     "metadata": {},
     "output_type": "execute_result"
    }
   ],
   "source": [
    "dados = pd.DataFrame(\n",
    "    {'N_Objetos': np.repeat([2, 3, 4], 5),\n",
    "    'Tempo_Reacao': [1, 2, 3, 3, 4, 2, 3, 4, 4, 5, 4, 5, 5, 6, 7]\n",
    "    }\n",
    ")\n",
    "dados.head()"
   ]
  },
  {
   "cell_type": "markdown",
   "id": "657dc297-4d32-4c30-9555-3ee78d37e709",
   "metadata": {},
   "source": [
    "##### a) Faça o gráfico de dispersão das duas variáveis."
   ]
  },
  {
   "cell_type": "code",
   "execution_count": 18,
   "id": "5c9f7ce6-000e-4f72-9126-7972d79d1ea8",
   "metadata": {},
   "outputs": [
    {
     "data": {
      "image/png": "[encoded data removed]",
      "text/plain": [
       "<Figure size 1200x600 with 1 Axes>"
      ]
     },
     "metadata": {},
     "output_type": "display_data"
    }
   ],
   "source": [
    "ax = sns.scatterplot(x = 'N_Objetos', y = 'Tempo_Reacao', data = dados, s = 100, color = 'green')\n",
    "ax.figure.set_size_inches(12, 6)\n",
    "ax.set(xlabel = 'Número de Objetos', ylabel = 'Tempo de Reação')\n",
    "plt.show()"
   ]
  },
  {
   "cell_type": "markdown",
   "id": "80ff439b-2558-4c0d-8f64-ffd36ccae301",
   "metadata": {},
   "source": [
    "##### b) Qual o coeficiente de correlação entre elas?"
   ]
  },
  {
   "cell_type": "code",
   "execution_count": 19,
   "id": "b4934581-6efa-4cc8-958b-4d3938f21ebc",
   "metadata": {},
   "outputs": [
    {
     "data": {
      "text/plain": [
       "array([[1.       , 0.7406129],\n",
       "       [0.7406129, 1.       ]])"
      ]
     },
     "execution_count": 19,
     "metadata": {},
     "output_type": "execute_result"
    }
   ],
   "source": [
    "np.corrcoef(dados['N_Objetos'], dados['Tempo_Reacao'])"
   ]
  },
  {
   "cell_type": "markdown",
   "id": "e09127ba-9df4-4644-8518-0f5770f9d624",
   "metadata": {},
   "source": [
    "#### <font color = 'orange'> Problema 4.14 </font>\n",
    "\n",
    "\n",
    "Calcule o grau de associação entre as variáveis estado civil e idade, na Tabela 2.1."
   ]
  },
  {
   "cell_type": "code",
   "execution_count": 20,
   "id": "35b9482c-2410-4072-b91f-f1595b1f7dd7",
   "metadata": {},
   "outputs": [
    {
     "data": {
      "text/html": [
       "<div>\n",
       "<style scoped>\n",
       "    .dataframe tbody tr th:only-of-type {\n",
       "        vertical-align: middle;\n",
       "    }\n",
       "\n",
       "    .dataframe tbody tr th {\n",
       "        vertical-align: top;\n",
       "    }\n",
       "\n",
       "    .dataframe thead th {\n",
       "        text-align: right;\n",
       "    }\n",
       "</style>\n",
       "<table border=\"1\" class=\"dataframe\">\n",
       "  <thead>\n",
       "    <tr style=\"text-align: right;\">\n",
       "      <th></th>\n",
       "      <th>N</th>\n",
       "      <th>Estado_Civil</th>\n",
       "      <th>Grau_de_Instrução</th>\n",
       "      <th>N_de_Filhos</th>\n",
       "      <th>Salario_X_minimo</th>\n",
       "      <th>Idade_Anos</th>\n",
       "      <th>Idade_Meses</th>\n",
       "      <th>Região_de_Procedência</th>\n",
       "    </tr>\n",
       "  </thead>\n",
       "  <tbody>\n",
       "    <tr>\n",
       "      <th>0</th>\n",
       "      <td>1</td>\n",
       "      <td>solteiro</td>\n",
       "      <td>ensino fundamental</td>\n",
       "      <td>NaN</td>\n",
       "      <td>4.00</td>\n",
       "      <td>26</td>\n",
       "      <td>3</td>\n",
       "      <td>interior</td>\n",
       "    </tr>\n",
       "    <tr>\n",
       "      <th>1</th>\n",
       "      <td>2</td>\n",
       "      <td>casado</td>\n",
       "      <td>ensino fundamental</td>\n",
       "      <td>1.0</td>\n",
       "      <td>4.56</td>\n",
       "      <td>32</td>\n",
       "      <td>10</td>\n",
       "      <td>capital</td>\n",
       "    </tr>\n",
       "    <tr>\n",
       "      <th>2</th>\n",
       "      <td>3</td>\n",
       "      <td>casado</td>\n",
       "      <td>ensino fundamental</td>\n",
       "      <td>2.0</td>\n",
       "      <td>5.25</td>\n",
       "      <td>36</td>\n",
       "      <td>5</td>\n",
       "      <td>capital</td>\n",
       "    </tr>\n",
       "    <tr>\n",
       "      <th>3</th>\n",
       "      <td>4</td>\n",
       "      <td>solteiro</td>\n",
       "      <td>ensino médio</td>\n",
       "      <td>NaN</td>\n",
       "      <td>5.73</td>\n",
       "      <td>20</td>\n",
       "      <td>10</td>\n",
       "      <td>outra</td>\n",
       "    </tr>\n",
       "    <tr>\n",
       "      <th>4</th>\n",
       "      <td>5</td>\n",
       "      <td>solteiro</td>\n",
       "      <td>ensino fundamental</td>\n",
       "      <td>NaN</td>\n",
       "      <td>6.26</td>\n",
       "      <td>40</td>\n",
       "      <td>7</td>\n",
       "      <td>outra</td>\n",
       "    </tr>\n",
       "  </tbody>\n",
       "</table>\n",
       "</div>"
      ],
      "text/plain": [
       "   N Estado_Civil   Grau_de_Instrução  N_de_Filhos  Salario_X_minimo  \\\n",
       "0  1     solteiro  ensino fundamental          NaN              4.00   \n",
       "1  2       casado  ensino fundamental          1.0              4.56   \n",
       "2  3       casado  ensino fundamental          2.0              5.25   \n",
       "3  4     solteiro        ensino médio          NaN              5.73   \n",
       "4  5     solteiro  ensino fundamental          NaN              6.26   \n",
       "\n",
       "   Idade_Anos  Idade_Meses Região_de_Procedência  \n",
       "0          26            3              interior  \n",
       "1          32           10               capital  \n",
       "2          36            5               capital  \n",
       "3          20           10                 outra  \n",
       "4          40            7                 outra  "
      ]
     },
     "execution_count": 20,
     "metadata": {},
     "output_type": "execute_result"
    }
   ],
   "source": [
    "tab2_1.head()"
   ]
  },
  {
   "cell_type": "code",
   "execution_count": 21,
   "id": "9fb80430-8375-49aa-aad3-54c5e2cd566a",
   "metadata": {},
   "outputs": [
    {
     "data": {
      "text/plain": [
       "Estado_Civil\n",
       "casado      20\n",
       "solteiro    16\n",
       "Name: count, dtype: int64"
      ]
     },
     "execution_count": 21,
     "metadata": {},
     "output_type": "execute_result"
    }
   ],
   "source": [
    "tab2_1['Estado_Civil'].value_counts()"
   ]
  },
  {
   "cell_type": "code",
   "execution_count": 22,
   "id": "5694ad52-c6ea-4a68-b4f1-b2f3eaa1d5e5",
   "metadata": {},
   "outputs": [],
   "source": [
    "n_casado = tab2_1['Estado_Civil'].value_counts()['casado']\n",
    "n_solteiro = tab2_1['Estado_Civil'].value_counts()['solteiro']\n",
    "n = n_solteiro + n_casado"
   ]
  },
  {
   "cell_type": "code",
   "execution_count": 23,
   "id": "4acc02f8-458f-48a8-947d-d6def606f802",
   "metadata": {},
   "outputs": [
    {
     "data": {
      "text/plain": [
       "20"
      ]
     },
     "execution_count": 23,
     "metadata": {},
     "output_type": "execute_result"
    }
   ],
   "source": [
    "n_casado"
   ]
  },
  {
   "cell_type": "code",
   "execution_count": 24,
   "id": "25215d95-f9ea-4c56-98ce-de03e5289e1d",
   "metadata": {},
   "outputs": [
    {
     "data": {
      "text/plain": [
       "16"
      ]
     },
     "execution_count": 24,
     "metadata": {},
     "output_type": "execute_result"
    }
   ],
   "source": [
    "n_solteiro"
   ]
  },
  {
   "cell_type": "code",
   "execution_count": 25,
   "id": "5bf80888-45a4-4c0e-a7ec-605f56f0c411",
   "metadata": {},
   "outputs": [
    {
     "data": {
      "text/plain": [
       "Estado_Civil\n",
       "casado      34.765789\n",
       "solteiro    60.916667\n",
       "Name: Idade_Anos, dtype: float64"
      ]
     },
     "execution_count": 25,
     "metadata": {},
     "output_type": "execute_result"
    }
   ],
   "source": [
    "tab2_1.groupby('Estado_Civil')['Idade_Anos'].var()"
   ]
  },
  {
   "cell_type": "code",
   "execution_count": 26,
   "id": "7f8040e2-088e-4c8a-b7ae-bb3e2a11dc6f",
   "metadata": {},
   "outputs": [
    {
     "data": {
      "text/plain": [
       "34.76578947368421"
      ]
     },
     "execution_count": 26,
     "metadata": {},
     "output_type": "execute_result"
    }
   ],
   "source": [
    "var_por_cat = tab2_1.groupby('Estado_Civil')['Idade_Anos'].var()\n",
    "var_por_cat['casado']"
   ]
  },
  {
   "cell_type": "code",
   "execution_count": 27,
   "id": "a61da43f-fc9f-4e3b-bcdd-0e9fa1ed685b",
   "metadata": {},
   "outputs": [],
   "source": [
    "var_bar = ((n_casado-1)*var_por_cat['casado'] + (n_solteiro-1)*var_por_cat['solteiro']) / (n-1)"
   ]
  },
  {
   "cell_type": "code",
   "execution_count": 28,
   "id": "30ce7070-34e0-46c2-91e9-ae3028f49052",
   "metadata": {},
   "outputs": [
    {
     "data": {
      "text/plain": [
       "0.009095200629425593"
      ]
     },
     "execution_count": 28,
     "metadata": {},
     "output_type": "execute_result"
    }
   ],
   "source": [
    "rsq = 1 -  var_bar/ tab2_1['Idade_Anos'].var()\n",
    "rsq"
   ]
  },
  {
   "cell_type": "markdown",
   "id": "21805c7f-f1e7-4bed-a5ec-398cf272b009",
   "metadata": {},
   "source": [
    "##### Como podemos ver, o valor do $R^2$ (ou seja, o ganho que temos em adotar o modelo mais complexo que explica a variabilidade da idade com base no estado civil) é muito pequeno, menos de 1%. Desse modo, concluímos que as variáveis idade e estado civil estão fracamente associadas."
   ]
  },
  {
   "cell_type": "markdown",
   "id": "22101dd6-5bb4-4398-adbd-038d58ecb7a7",
   "metadata": {},
   "source": [
    "#### <font color = 'orange'> Problema 4.15 </font>\n",
    "\n",
    "\n",
    "Usando os dados do Problema 9 do Capítulo 2, calcule o grau de associação entre seção\r\n",
    "e notas em Estatística."
   ]
  },
  {
   "cell_type": "code",
   "execution_count": 29,
   "id": "0c2e6c3f-5a39-49d1-b65f-00d457a38b86",
   "metadata": {},
   "outputs": [
    {
     "data": {
      "text/html": [
       "<div>\n",
       "<style scoped>\n",
       "    .dataframe tbody tr th:only-of-type {\n",
       "        vertical-align: middle;\n",
       "    }\n",
       "\n",
       "    .dataframe tbody tr th {\n",
       "        vertical-align: top;\n",
       "    }\n",
       "\n",
       "    .dataframe thead th {\n",
       "        text-align: right;\n",
       "    }\n",
       "</style>\n",
       "<table border=\"1\" class=\"dataframe\">\n",
       "  <thead>\n",
       "    <tr style=\"text-align: right;\">\n",
       "      <th></th>\n",
       "      <th>Func.</th>\n",
       "      <th>Seção</th>\n",
       "      <th>Administr.</th>\n",
       "      <th>Direito</th>\n",
       "      <th>Redação</th>\n",
       "      <th>Estatíst.</th>\n",
       "      <th>Inglês</th>\n",
       "      <th>Metodologia</th>\n",
       "      <th>Política</th>\n",
       "      <th>Economia</th>\n",
       "    </tr>\n",
       "  </thead>\n",
       "  <tbody>\n",
       "    <tr>\n",
       "      <th>0</th>\n",
       "      <td>1</td>\n",
       "      <td>P</td>\n",
       "      <td>8</td>\n",
       "      <td>9</td>\n",
       "      <td>8.6</td>\n",
       "      <td>9</td>\n",
       "      <td>B</td>\n",
       "      <td>A</td>\n",
       "      <td>9.0</td>\n",
       "      <td>8.5</td>\n",
       "    </tr>\n",
       "    <tr>\n",
       "      <th>1</th>\n",
       "      <td>2</td>\n",
       "      <td>P</td>\n",
       "      <td>8</td>\n",
       "      <td>9</td>\n",
       "      <td>7.0</td>\n",
       "      <td>9</td>\n",
       "      <td>B</td>\n",
       "      <td>C</td>\n",
       "      <td>6.5</td>\n",
       "      <td>8.0</td>\n",
       "    </tr>\n",
       "    <tr>\n",
       "      <th>2</th>\n",
       "      <td>3</td>\n",
       "      <td>P</td>\n",
       "      <td>8</td>\n",
       "      <td>9</td>\n",
       "      <td>8.0</td>\n",
       "      <td>8</td>\n",
       "      <td>D</td>\n",
       "      <td>B</td>\n",
       "      <td>9.0</td>\n",
       "      <td>8.5</td>\n",
       "    </tr>\n",
       "    <tr>\n",
       "      <th>3</th>\n",
       "      <td>4</td>\n",
       "      <td>P</td>\n",
       "      <td>6</td>\n",
       "      <td>9</td>\n",
       "      <td>8.6</td>\n",
       "      <td>8</td>\n",
       "      <td>D</td>\n",
       "      <td>C</td>\n",
       "      <td>6.0</td>\n",
       "      <td>8.5</td>\n",
       "    </tr>\n",
       "    <tr>\n",
       "      <th>4</th>\n",
       "      <td>5</td>\n",
       "      <td>P</td>\n",
       "      <td>8</td>\n",
       "      <td>9</td>\n",
       "      <td>8.0</td>\n",
       "      <td>9</td>\n",
       "      <td>A</td>\n",
       "      <td>A</td>\n",
       "      <td>6.5</td>\n",
       "      <td>9.0</td>\n",
       "    </tr>\n",
       "  </tbody>\n",
       "</table>\n",
       "</div>"
      ],
      "text/plain": [
       "   Func. Seção  Administr.  Direito  Redação  Estatíst. Inglês Metodologia  \\\n",
       "0      1     P           8        9      8.6          9      B           A   \n",
       "1      2     P           8        9      7.0          9      B           C   \n",
       "2      3     P           8        9      8.0          8      D           B   \n",
       "3      4     P           6        9      8.6          8      D           C   \n",
       "4      5     P           8        9      8.0          9      A           A   \n",
       "\n",
       "   Política  Economia  \n",
       "0       9.0       8.5  \n",
       "1       6.5       8.0  \n",
       "2       9.0       8.5  \n",
       "3       6.0       8.5  \n",
       "4       6.5       9.0  "
      ]
     },
     "execution_count": 29,
     "metadata": {},
     "output_type": "execute_result"
    }
   ],
   "source": [
    "dados = pd.read_excel('dados/prob_4.15.xlsx')\n",
    "dados.head()"
   ]
  },
  {
   "cell_type": "code",
   "execution_count": 30,
   "id": "a0de359d-8a0c-41e8-ae68-cd727135af32",
   "metadata": {},
   "outputs": [
    {
     "data": {
      "text/plain": [
       "array(['P', 'T', 'V'], dtype=object)"
      ]
     },
     "execution_count": 30,
     "metadata": {},
     "output_type": "execute_result"
    }
   ],
   "source": [
    "dados['Seção'].unique()"
   ]
  },
  {
   "cell_type": "code",
   "execution_count": 31,
   "id": "f53143eb-60e8-4b3b-a4f0-20aeab4360cf",
   "metadata": {},
   "outputs": [],
   "source": [
    "n_P = dados['Seção'].value_counts()['P']\n",
    "n_T = dados['Seção'].value_counts()['T']\n",
    "n_V = dados['Seção'].value_counts()['V']\n",
    "n = n_P + n_T + n_V"
   ]
  },
  {
   "cell_type": "code",
   "execution_count": 32,
   "id": "d10c05be-4bd3-4faf-aab8-bb04fe0c6f4a",
   "metadata": {},
   "outputs": [],
   "source": [
    "var_secao = dados.groupby('Seção')['Estatíst.'].var()"
   ]
  },
  {
   "cell_type": "code",
   "execution_count": 33,
   "id": "e91acb24-066c-4eb8-8858-7640a2eab579",
   "metadata": {},
   "outputs": [],
   "source": [
    "var_bar = ((n_P - 1)*var_secao['P'] + (n_T - 1)*var_secao['T'] + (n_V - 1)*var_secao['V'])/(n-1)"
   ]
  },
  {
   "cell_type": "code",
   "execution_count": 34,
   "id": "3a53ccf5-e17e-41ac-8373-69fde8eace3d",
   "metadata": {},
   "outputs": [
    {
     "data": {
      "text/plain": [
       "0.0688798381106075"
      ]
     },
     "execution_count": 34,
     "metadata": {},
     "output_type": "execute_result"
    }
   ],
   "source": [
    "rsq = 1 - var_bar/dados['Estatíst.'].var()\n",
    "rsq"
   ]
  },
  {
   "cell_type": "markdown",
   "id": "e465dab7-575e-4d71-9fed-5dbb92d15ec5",
   "metadata": {},
   "source": [
    "## Capítulo 5 - Probabilidades\n",
    "----"
   ]
  },
  {
   "cell_type": "markdown",
   "id": "b897b15a-927b-4585-bdb9-7ede66a872e7",
   "metadata": {},
   "source": [
    "### <font color = 'orange'> Probabilidade Condicional e Independência </font>"
   ]
  },
  {
   "cell_type": "markdown",
   "id": "35f0b77a-384f-49d6-89a1-b6c462c9557c",
   "metadata": {},
   "source": [
    "#### <font color = 'orange'> Problema 5.15: </font> Considere uma urna contendo três bolas pretas e cinco bolas vermelhas. Retire duas bolas da urna, sem reposição.\n",
    "\n",
    "Para resolver esse problema, vamos usar o princípio da multiplicação de probabilidades, isto é,\n",
    "\n",
    "$$ P(A \\cap B) = P(A) P(B|A)$$"
   ]
  },
  {
   "cell_type": "markdown",
   "id": "749e4123-20e1-41ef-9aaa-e5f657f0565b",
   "metadata": {},
   "source": [
    "##### a) Obtenha os resultados possíveis e as respectivas probabilidades.\n",
    "\n",
    "No caso de extrações sem reposição, as probabilidades relativas à segunda bola são condicionais."
   ]
  },
  {
   "cell_type": "code",
   "execution_count": 35,
   "id": "9bd6119c-e731-460a-9043-e60b4024afd8",
   "metadata": {},
   "outputs": [
    {
     "name": "stdout",
     "output_type": "stream",
     "text": [
      "  Evento   |    Probabilidade    \n",
      "---------- | ------------------\n",
      "    PP     |  (3/8)*(2/7) = 3/28 \n",
      "    PV     | (3/8)*(5/7) = 15/56 \n",
      "    VP     | (5/8)*(3/7) = 15/56 \n",
      "    VV     | (5/8)*(4/7) = 20/56 \n"
     ]
    }
   ],
   "source": [
    "print(f'{\"Evento\": ^10} | {\"Probabilidade\": ^20}')\n",
    "print(f'{\"-\"*10} | {\"-\"*18}')\n",
    "print(f'{\"PP\": ^10} | {\"(3/8)*(2/7) = 3/28\": ^20}')\n",
    "print(f'{\"PV\": ^10} | {\"(3/8)*(5/7) = 15/56\": ^20}')\n",
    "print(f'{\"VP\": ^10} | {\"(5/8)*(3/7) = 15/56\": ^20}')\n",
    "print(f'{\"VV\": ^10} | {\"(5/8)*(4/7) = 20/56\": ^20}')"
   ]
  },
  {
   "cell_type": "markdown",
   "id": "79b6f352-a240-4554-98cd-26eea8faf45b",
   "metadata": {},
   "source": [
    "##### b) Mesmo problema, para extrações com reposição.\n",
    "\n",
    "No caso de extrações em reposição, as probabilidades permanecem inalteradas após a extração da primeira bola. Consequentemente, as extrações da primeira e segunda bola são eventos independentes."
   ]
  },
  {
   "cell_type": "code",
   "execution_count": 36,
   "id": "0d18aa01-912d-40ce-afc8-e0cfb89aefb5",
   "metadata": {},
   "outputs": [
    {
     "name": "stdout",
     "output_type": "stream",
     "text": [
      "  Evento   |    Probabilidade    \n",
      "---------- | ------------------\n",
      "    PP     |  (3/8)*(3/8) = 9/64 \n",
      "    PV     | (3/8)*(5/8) = 15/64 \n",
      "    VP     | (5/8)*(3/8) = 15/64 \n",
      "    VV     | (5/8)*(5/8) = 25/64 \n"
     ]
    }
   ],
   "source": [
    "print(f'{\"Evento\": ^10} | {\"Probabilidade\": ^20}')\n",
    "print(f'{\"-\"*10} | {\"-\"*18}')\n",
    "print(f'{\"PP\": ^10} | {\"(3/8)*(3/8) = 9/64\": ^20}')\n",
    "print(f'{\"PV\": ^10} | {\"(3/8)*(5/8) = 15/64\": ^20}')\n",
    "print(f'{\"VP\": ^10} | {\"(5/8)*(3/8) = 15/64\": ^20}')\n",
    "print(f'{\"VV\": ^10} | {\"(5/8)*(5/8) = 25/64\": ^20}')"
   ]
  },
  {
   "cell_type": "markdown",
   "id": "7a98023c-1e37-41b7-b5fb-793e9c1c8e00",
   "metadata": {},
   "source": [
    "#### <font color = 'orange'> Problema 5.16: </font> Probabilidades já mostradas no problema anterior."
   ]
  },
  {
   "cell_type": "markdown",
   "id": "75a7f2f6-0bf9-4cd3-a923-3e2feecfc9c9",
   "metadata": {},
   "source": [
    "#### <font color = 'orange'> Problema 5.17: </font> A probabilidade de que A resolva um problema é de 2/3, e a probabilidade de que B o resolva é de 3/4. Se ambos tentarem independentemente, qual a probabilidade de problema ser resolvido?\n",
    "\n",
    "Nesse caso, estamos interessados na probabilidade de o problema ser resolvido por A ou por B e, se eles resolvem independentemente, temos a seguinte relação:\n",
    "\n",
    "$$ P(A \\cap B) = P(A) P(B) $$\n",
    "\n",
    "Logo,\n",
    "\n",
    "$$P(A \\cup B) = P(A) + P(B) - P(A \\cap B) = P(A) + P(B) - P(A) P(B) = \\frac{2}{3} + \\frac{3}{4} - \\frac{2}{3}*\\frac{3}{4} = \\frac{11}{12} \\approx 0,92$$"
   ]
  },
  {
   "cell_type": "markdown",
   "id": "93401949-1bc7-449d-aee4-a41dece1d818",
   "metadata": {},
   "source": [
    "#### <font color = 'orange'> Problema 5.18: </font> Um dado é viciado, de tal forma que a probabilidade de sair um certo ponto é proporcional ao seu valor (por exemplo, o ponto 6 é três vezes mais provável de sair do que o ponto 2) Calcular:"
   ]
  },
  {
   "cell_type": "markdown",
   "id": "180f31d8-5421-46bd-ab90-149062c4c0f7",
   "metadata": {},
   "source": [
    "##### a) a probabilidade de sair 5, sabendo-se que o ponto que saiu é ímpar;"
   ]
  },
  {
   "cell_type": "markdown",
   "id": "d5c12d5a-d4bb-4b3e-999f-fd2ee8512691",
   "metadata": {},
   "source": [
    "Para começar a resolver esse problema, precisamos primeiramente conhecer o que é a probabilidade de obter cada face do dado. De acordo com o enunciado, a probabilidade de obter uma face de valor $j$ é dada por:\n",
    "\n",
    "$$ P(j) = k*j, \\ j = 1, 2, \\ldots, 6.$$\n",
    "\n",
    "Logo, precisamos determinar quem é $k$. Podemos fazer isso usando a condição de normalização das probabilidades:\n",
    "\n",
    "$$\\sum_{j = 1}^6 P_j = 1 \\Rightarrow \\sum_{j = 1}^6 k*j = 1 \\Rightarrow 21*k = 1 \\Rightarrow k = 1/21,$$\n",
    "\n",
    "o que leva a \n",
    "\n",
    "$$ P(j) = j/21, \\ j = 1, 2, \\ldots 6. $$\n",
    "\n",
    "$$P(5|ímpar) = \\frac{P(5 \\cap ímpar)}{P(ímpar)} = \\frac{P(5)}{P(1) + P(3) + P(5)} = \\frac{5/21}{9/21} = \\frac{5}{9}.$$"
   ]
  },
  {
   "cell_type": "markdown",
   "id": "e6d958a5-98b3-4e23-b541-badc3c2e5773",
   "metadata": {},
   "source": [
    "##### b) a probabilidade de tirar um número par, sabendo-se que saiu um número maior que 3."
   ]
  },
  {
   "cell_type": "markdown",
   "id": "35a7820a-c870-40ee-992d-167befbc130f",
   "metadata": {},
   "source": [
    "$$ P(par | >3) = \\frac{P(par \\ \\cap > 3)}{P( > 3)} = \\frac{P(4) + P(6)}{P(4) + P(5) + P(6)} = \\frac{10/21}{15/21} = 10/15.$$"
   ]
  },
  {
   "cell_type": "markdown",
   "id": "7d922684-c610-4dc5-a1aa-b6e17d1017b7",
   "metadata": {},
   "source": [
    "#### <font color = 'orange'> Problema 5.19: </font> As probabilidades de que dois eventos independentes ocorram são p e q, respectivamente. Qual   probabilidade:"
   ]
  },
  {
   "cell_type": "markdown",
   "id": "b03ecab8-c07a-4756-b73b-42977b797430",
   "metadata": {},
   "source": [
    "##### a) de que nenhum desses eventos ocorra?"
   ]
  },
  {
   "cell_type": "markdown",
   "id": "88b116ef-486e-48bd-bac4-c977227f89e1",
   "metadata": {},
   "source": [
    "Quando falamos em nenhum dos dois eventos ocorrer, estamos interessados no evento dado pela interseção entre $A^c$ e $B^c$:\n",
    "\n",
    "$$ P(A^c \\cap B^c) = P(A^c) P(B^c | A^c).  $$\n",
    "\n",
    "Por outro lado, se A e B são independentes, $A^c$ e $B^c$ também são, de modo que\n",
    "\n",
    "$$ P(A^c \\cap B^c) = P(A^c) P(B^c) = (1-p)*(1-q).$$"
   ]
  },
  {
   "cell_type": "markdown",
   "id": "e83eb47a-1ed5-4818-8384-78bb451576e8",
   "metadata": {},
   "source": [
    "##### b) de que pelo menos um desses eventos ocorra?"
   ]
  },
  {
   "cell_type": "markdown",
   "id": "03f0ddc4-d133-4abc-b56e-97fd9c752d66",
   "metadata": {},
   "source": [
    "Quando falamos na probabilidade de que pelo menos um dos dois eventos ocorra, estamos na verdade interessados na probabilidade da união dos dois eventos:\n",
    "\n",
    "$$ P(A \\cup B) = P(A) + P(B) - P(A \\cap B) = P(A) + P(B) - P(A)*P(B) = p + q - pq.$$"
   ]
  },
  {
   "attachments": {
    "aade6ce6-3771-4ad4-968a-c851608983ef.png": {
     "image/png": "[encoded data removed]"
    }
   },
   "cell_type": "markdown",
   "id": "54ef531d-9e2a-4dd9-bff2-7c6eda25d514",
   "metadata": {},
   "source": [
    "#### <font color = 'orange'> Problema 5.20: </font> Na figura abaixo temos um sistema com três componentes funcionando independentemente, com confiabilidades $p_1$, $p_2$ e $p_3$ Obtenha a confiabilidade do sistema.\n",
    "\n",
    "![image.png](attachment:aade6ce6-3771-4ad4-968a-c851608983ef.png)"
   ]
  },
  {
   "cell_type": "markdown",
   "id": "f6e1d56d-1b4a-4742-aaea-d2ac17ec702d",
   "metadata": {},
   "source": [
    "A teoria da confiabilidade estuda sistemas e seus componentes, como por exemplo sistemas mecânicos e eletrônicos (um automóvel ou um computador) e sistemas biológicos, como o corpo humano. O objetivo da teoria é estudar as relações entre o funcionamento dos componentes e do sistema.\n",
    "\n",
    "No caso em análise, para que o sistema como um todo funcione, é necessário que os componentes 1 e 2 funcionem simultaneamente OU que os componentes 1 e 3 funcionem em simultâneo, já que os componentes 2 e 3 estão em paralelo. Para determinar essa probabilidade, vamos definir os seguintes eventos:\n",
    "\n",
    "$A$: o componente 1 funciona\n",
    "\n",
    "$B$: o componente 2 funciona\n",
    "\n",
    "$C$: o componente 3 funciona\n",
    "\n",
    "$F$: o sistema funciona\n",
    "\n",
    "$$P(F) = P(AB) + P(AC) - P(ABC) = p_1 p_2 + p_1 p_3 - p_1 p_2 p_3 = p_1 (p_2 + p_3 - p_2 p_3).$$"
   ]
  },
  {
   "attachments": {
    "ac7fe1b4-347b-47f4-859a-867cd98cdbda.png": {
     "image/png": "[encoded data removed]"
    }
   },
   "cell_type": "markdown",
   "id": "85ae07c6-de7e-4d51-b184-050297112224",
   "metadata": {},
   "source": [
    "#### <font color = 'orange'> Problema 5.22: </font> Supondo que todos os componentes do sistema da figura abaixo tenham a mesma confiabilidade $p$ e funcionem independentemente, otenha a confiabilidade do sistema.\n",
    "\n",
    "\n",
    "![image.png](attachment:ac7fe1b4-347b-47f4-859a-867cd98cdbda.png)"
   ]
  },
  {
   "cell_type": "markdown",
   "id": "085d4326-532c-4bef-aaf7-11a88d7da54b",
   "metadata": {},
   "source": [
    "Semelhantemente ao problema anterior, o sistema em análise irá funcionar se os componentes 1 e 2 funcionarem simultaneamente OU se os componentes 3 e 4 funcionarem simultaneamente. Como cada componente tem seu funcionamente independente dos demais, temos:\n",
    "\n",
    "$A$: o componente 1 funciona\n",
    "\n",
    "$B$: o componente 2 funciona\n",
    "\n",
    "$C$: o componente 3 funciona\n",
    "\n",
    "$D$: o componente 4 funciona\n",
    "\n",
    "$F$: o sistema funciona\n",
    "\n",
    "$$ P(F) = P(AB) + P(CD) - P(ABCD) = p^2 + p^2 - p^4 = p^2 (2 - p^2). $$"
   ]
  },
  {
   "cell_type": "markdown",
   "id": "83414e8b-04a4-40f2-bbb7-293496e1ef96",
   "metadata": {},
   "source": [
    "### <font color = 'red'> O Teorema de Bayes </font>"
   ]
  },
  {
   "cell_type": "markdown",
   "id": "eee00071-4f2c-4dac-a7bb-0749c9f16e73",
   "metadata": {},
   "source": [
    "#### <font color = 'orange'> Problema 5.23: </font> Uma companhia produz circuitos em três fábricas, I, II e III. A fábrica I produz 40% dos circuitos, enquanto a II e a III produzem 30% cada uma. As probabilidades de que um circuito integrado produzido por essas fábricas não funcione são 0,01, 0,04 e 0,03, respectivamente. Escolhido um circuito da produção conjunta das três fábricas, qual a probabilidade de o mesmo não funcionar?"
   ]
  },
  {
   "cell_type": "markdown",
   "id": "d1a125b6-ac04-4add-9d55-6988937c847a",
   "metadata": {},
   "source": [
    "Para descobrir a probabilidade de um circuito escolhido ao acaso não funcionar, precisamos determinar as interseções do evento *circuito não funciona* com cada um das fábricas. Primeiramente, vamos definir os eventos:\n",
    "\n",
    "$N$: O circuito não funciona\n",
    "\n",
    "$I$: O circuito foi produzido pela fábrica I\n",
    "\n",
    "$II$: O circuito foi produzido pela fábrica II\n",
    "\n",
    "$III$: O circuito foi produzido pela fábrica III.\n",
    "\n",
    "Definidos os eventos, vamos calcular a probabilidade de o circuito escolhido não funcionar:\n",
    "\n",
    "$$ N = (N \\cap I) \\cup (N \\cap II) \\cup (N \\cap III) $$\n",
    "\n",
    "$$ P(N) = P(NI) + P(NII) + P(NIII) = P(I) P(N|I) + P(II) P(N|II) + P(III) P(N|III) = 0,4*0,01 + 0,3*0,04 + 0,3*0,03 = 0,025$$"
   ]
  },
  {
   "cell_type": "markdown",
   "id": "eba538f6-af34-49a5-9374-d76a2266202f",
   "metadata": {},
   "source": [
    "#### <font color = 'orange'> Problema 5.24: </font> Considere a situação do problema anterior, mas suponha agora que um circuito escolhido ao acaso seja defeituoso. Determine qual a probabilidade de ele ter sido fabricado por I."
   ]
  },
  {
   "cell_type": "markdown",
   "id": "72f53196-127e-444f-8eaa-919df6c5544f",
   "metadata": {},
   "source": [
    "O que queremos aqui é a probabilidade condicional de o circuito ter sido fabricado pela fábrica I, dado que ele não funciona. Essa probabilidade é dada por:\n",
    "\n",
    "$$ P(I|N) = \\frac{P(IN)}{P(N)} = \\frac{P(I) P(N|I)}{P(N)} = \\frac{P(I) P(N|I)}{P(I) P(N|I) + P(II) P(N|II) + P(III) P(N|III)} = \\frac{0,4*0,01}{0,4*0,01 + 0,3*0,04 + 0,3*0,03} = 0,16 = 16\\%.$$"
   ]
  },
  {
   "cell_type": "markdown",
   "id": "389b1571-2eca-47ff-86c5-0d2be46ef7f7",
   "metadata": {},
   "source": [
    "#### <font color = 'orange'> Problema 5.25: </font> A urna I contém duas bolas pretas e três brancas, ao passo que a urna II contém três bolas pretas e três brancas. Escolhemos uma urna ao acaso e dela extraímos uma bola que tem cor branca. Se a bola é recolocada na urna, qual é a probabilidade de se retirar novamente uma bola branca da mesma urna?"
   ]
  },
  {
   "cell_type": "markdown",
   "id": "7acf31d0-08c0-4652-8eef-ad03bf6b879d",
   "metadata": {},
   "source": [
    "Para resolver esse problema, vamos definir os eventos\n",
    "\n",
    "$B_1$: a primeira bola selecionada é branca\n",
    "\n",
    "$B_2$: a segunda bola selecionada é branca\n",
    "\n",
    "$U_i$: a urna escolhida foi a i, com $i = 1, 2$\n",
    "\n",
    "$E = B_2 B_1$: duas bolas brancas foram extraídas sequencialmente da mesma urna.\n",
    "\n",
    "Dessa forma, temos:\n",
    "\n",
    "$$ E = E U_1 \\cup E U_2 \\Rightarrow P(E) = P(U_1) P(E|U_1) + P(U_2) P(E|U_2) = P(U_1) P(B_2 B_1|U_1) + P(U_2) P(B_2 B_1|U_2). $$\n",
    "\n",
    "Porém, os eventos $B_2$ e $B_1$ são **condicionalmente independentes**, dada a escolha de determinada urna, ou seja\n",
    "\n",
    "$$ P(B_2 B_1|U_1) = P(B_2|U_1) P(B_1|U_1) $$\n",
    "\n",
    "e \n",
    "\n",
    "$$ P(B_2 B_1|U_2) = P(B_2|U_2) P(B_1|U_2), $$\n",
    "\n",
    "de modo que\n",
    "\n",
    "\n",
    "$$ P(E) = P(U_1) P(B_2|U_1) P(B_1|U_1) + P(U_2) P(B_2|U_2) P(B_1|U_2) = \\frac{1}{2} \\left( \\frac{3}{5} \\times \\frac{3}{5} + \\frac{1}{2}\\frac{1}{2} \\right) = \\frac{1}{2} \\times \\frac{61}{200} = 0,305. $$"
   ]
  },
  {
   "cell_type": "markdown",
   "id": "936f1bbe-8bad-410e-80cf-f13873da02dc",
   "metadata": {},
   "source": [
    "#### <font color = 'red'> O Problema do Aniversário </font>\n",
    "\n",
    "Considere $k$ pessoas numa sala. Qual a probabilidade de que pelo menos duas pessoas façam aniversário no mesmo dia e mês? A partir de qual \n",
    "valor de $k$ essa probabilidade é maior que 0,5? (Sugestão: seja A o evento “pelo menos duas pessoas fazem aniversário no mesmo dia\". O evento complementar é $A^c$: “todas as $k$ pessoas fazem anirersário em dias diferentes”. Calcule primeiro a $P(A^c)$).\n",
    "\n",
    "----\n",
    "\n",
    "Conforme sugerido no enunciado do problema, vamos calcular a probabilidade de que todas as $k$ pessoas na sala façam anivérsário em dias diferentes. Esse problema equivale à seleção aleatória de amostras de tamanho $k$ sem reposição de elementos **ordenados** de uma população de tamanho $N$, em que os elementos da amostra são as possíveis datas de aniversário. Como todas as datas são equiprováveis (pelo menos por suposição), essa probabilidade será dada pelo quociente entre o número de amostras de tamanho $k$ sem reposição (arranjo ordenado de tamanho $k$) e o número total de amostras possíveis (ou seja, com reposição). Desse modo,\n",
    "\n",
    "$$ 1 - p = \\frac{N (N-1) \\cdots (N - k + 1)}{N^k} = \\frac{365 (365-1) \\cdots (365 - (k - 1))}{365^k}. $$\n",
    "\n",
    "\n",
    "Como existem $k$ parcelas tanto no numerador como no denominador, podemos fazer:\n",
    "\n",
    "$$ 1 - p = \\left( \\dfrac{365}{365} \\right) \\left( \\dfrac{365 - 1}{365} \\right) \\cdots \\left( \\dfrac{365 - (k - 1)}{365} \\right) = \\left( 1 - \\frac{1}{365} \\right) \\left( 1 - \\frac{2}{365} \\right) \\cdots \\left( 1 - \\frac{k - 1}{365} \\right) .$$\n",
    "\n",
    "\n",
    "Para descobrir quando essa probabilidade se torna maior que 1/2, vamos calcular uma aproximação da expressão anterior válida para valores pequenos de $k$. Para isso, vamos desprezar os termos com denominadores $(365)^2, (365)^3$, etc., os quais são da ordem de $10^{-6}$ ou menores, teremos a seguinte aproximação para a probabilidade solicitada:\n",
    "\n",
    "\n",
    "$$ 1 - p \\approx 1 - \\frac{1 + 2 + \\cdots + (k - 1)}{365} \\Rightarrow p \\approx \\frac{1 + 2 + \\cdots + (k - 1)}{365} = \\frac{(k - 1)(k - 1 + 1)}{2 \\cdot 365} = \\frac{k (k - 1)}{730}. $$\n",
    "\n",
    "Logo,\n",
    "\n",
    "$$ p \\approx \\frac{k (k - 1)}{730}. $$\n",
    "\n",
    "Agora, para saber quando essa probabilidade se torna maior que 0,5, precisamos resolver a seguinte inequação:\n",
    "\n",
    "$$ \\frac{k (k - 1)}{730} \\geq 1/2 \\Rightarrow k^2 - k - 365 \\geq 0. $$\n",
    "\n",
    "Com a raiz positiva dessa equação, e arredondando para o inteiro mais próximo, vemos que, quando $k > 20$, a probabilidade de uma sala com esse número de pessoas conter ao menos duas que façam aniversário no mesmo dia e mês é maior que 50%. "
   ]
  },
  {
   "cell_type": "markdown",
   "id": "4434316a-223d-4b5b-bdae-862f9f10c83e",
   "metadata": {},
   "source": [
    "#### <font color = 'red'> O Problema de Monty Hall </font>\n",
    "\n",
    "Num programa de TV o objetivo é ganhar um carro como prêmio. O apresentador do programa mostra a você três portas, P1, P2 e P3: atrás de uma há um carro e, das outras, duas cabras. Ele pede a você para escolher uma porta, você escolhe P1, mas esta não é aberta. Então, ele abre uma das outras duas portas e mostra uma cabra (ele sabe o que há atrás de cada porta). Então ele pergunta se você quer mudar sua escolha de porta. O que você faria?\n",
    "\n",
    "---- \n",
    "\n",
    "Primeiramente, vamos resolver esse problema de uma maneira informal: inicialmente, a probabilidade de o prêmio estar em qualquer uma das portas é 1/3. Quando escolhemos a porta P1, por exemplo, a probabilidade de o prêmio estar em uma das portas que não escolhemos é 2/3. Monty Hall então abre uma das portas, mostra que não tem o prêmio e pergunta se queremos trocar. Como a probabilidade de o prêmio estar em uma das portas que não escolhemos é 2/3, é mais vantajoso trocar de porta. Isto ocorre porque, como Monty Hall sabe exatamente onde o prêmio está, ele naturalmente vai abrir uma porta sem prêmio, de modo que a probabilidade de o prêmio estar atrás da única porta que restou é, portanto, 2/3. O ponto chave aqui é que, inicialmente, as portas são equiprováveis. Depois que uma das portas é aberta por Monty, que sabe com certeza onde o prêmio está, a porta restante se torna mais provável de conter o prêmio. Por outro lado, caso Monty não soubesse onde está o prêmio e, por acaso, abrisse uma porta que não contêm o prêmio, a probabilidade de o prêmio estar na porta restante continuaria sendo 1/3.\n",
    "\n",
    "Vamos agora para a solução formal. Consideremos os seguintes eventos:\n",
    "\n",
    "\n",
    "$P1$: o prêmio está na porta 1\n",
    "\n",
    "$P2$: o prêmio está na porta 2\n",
    "\n",
    "$P3$: o prêmio está na porta 3\n",
    "\n",
    "$R1$: O apresentador revela a porta 1 (vazia)\n",
    "\n",
    "$R2$: O apresentador revela a porta 2 (vazia)\n",
    "\n",
    "$R3$: O apresentador revela a porta 3 (vazia).\n",
    "\n",
    "Digamos que o jogador escolha a porta $P1$ e Monty Hall abra a porta $P2$. Nesse caso, vamos calcular a probabilidade de o prêmio estar em $P3$:\n",
    "\n",
    "$$ P(P3|R2) = \\frac{P(P3 \\cap R2)}{P(R2)} \\frac{P(P3) P(R2|P3)}{P(R2|P1) P(P1) + P(R2|P2) P(P2) + P(R2|P3) P(P3)} = \\dfrac{ \\frac{1}{3} \\times 1 }{ \\frac{1}{2} \\times \\frac{1}{3} + 0 \\times \\frac{1}{3} + 1 \\times \\frac{1}{3} } = \\frac{2}{3}. $$\n",
    "\n",
    "Logo, conforme dito acima, é mais vantajoso trocar de porta."
   ]
  },
  {
   "cell_type": "markdown",
   "id": "79473517-e69c-4985-a6e6-ed2bda361c29",
   "metadata": {},
   "source": [
    "### Alguns Resultados Importantes do Capítulo\n",
    "----\n",
    "\n",
    "#### Axiomas Básicos da Teoria de Probabilidades\n",
    "\n",
    "Seja $S$ o conjunto de todos os possíveis resultados de um experimento. $S$ é chamado de **espaço amostral** do experimento. Um *evento* é um subconjunto de $S$.\n",
    "\n",
    "Se $A_i$, com $i = 1, \\ldots, n$, são eventos, então o conjunto $\\bigcup_{i = 1}^n A_i$, chamado de *união* desses eventos, é formado por todos os resultados que aparecem em pelo menos um dos eventos $A_i, i = 1, \\ \\ldots n$. Similarmente, o conjunto $\\bigcap_{i = 1}^n A_i$, às vezes escrito como $A_1 \\cdots A_n$, é chamado de *interseção* dos eventos $A_i$ e é formado por todos os resultados que aparecem em todos os eventos $A_i, i = 1, \\ \\ldots n$.\n",
    "\n",
    "Para cada evento $A$, definimos $A^c$ como sendo correspondente a todos os resultados no espaço amostral que não estão em $A$. Chamamos $A^c$ de *complemento* do evento A. O evento $S^c$, que não possui resultados, é representado pelo símbolo $\\varnothing$ e é chamado de conjunto *vazio*. Se $AB = \\varnothing$, então dizemos que $A$ e $B$ são *mutuamente exclusivos*.\n",
    "\n",
    "Para cada ponto $A$ do espaço amostral $S$, supõe-se que o número $P(A)$, chamado de probabilidade de $A$, seja definido de forma que\n",
    "\n",
    "(i) $0 \\leq P(A) \\leq 1$\n",
    "\n",
    "(ii) $P(S) = 1$\n",
    "\n",
    "(iii) Para eventos $A_i$ mutuamente exclusivos, $i \\geq 1$,\n",
    "\n",
    "\n",
    "$$ P \\left( \\bigcup_{i = 1}^\\infty A_i \\right) = \\sum_{i = 1}^\\infty P(A_i),$$\n",
    "\n",
    "\n",
    "em que $P(A)$ representa a probabilidade de que o resultado do experimento esteja em A.\n",
    "\n",
    "Outras duas identidades importantes são as seguintes:\n",
    "\n",
    "\n",
    "$$ P(A^c) = 1 - P(A) $$\n",
    "\n",
    "e \n",
    "\n",
    "$$ P(A \\cup B) = P(A) + P(B) - P(AB), $$\n",
    "\n",
    "em que esta última pode ser generalizada para mais de dois eventos.\n",
    "\n",
    "Por fim, consideremos que o espaço amostral $S$ seja finito e que cada um dos pontos do conjunto tenha a mesma probabilidade de ocorrer. Sendo assim,\n",
    "\n",
    "$$ P(A) = \\frac{n(A)}{n(B)}, $$\n",
    "\n",
    "em que $n(A)$ é o número de pontos que caracterizam o evento $A$ e $n(B)$ é o número de pontos que caracterizam o evento $B$. A probabilidade $P(A)$, nesse caso, pode ser interpretada como uma frequência relativa de ocorrência em uma longa sequência de experimentos ou como uma medida de crença.\n",
    "\n",
    "#### Definição de Probabilidade Condicional\n",
    "\n",
    "Para os eventos E e F, a probabilidade condicional de E dado que F ocorreu é dada por\n",
    "\n",
    "$$ P(E|F) = \\frac{P(EF)}{P(F)}. $$\n",
    "\n",
    "A definição dada acima conduz à regra de multiplicação de probabilidades:\n",
    "\n",
    "$$ P(EF) = P(F)P(E|F),$$\n",
    "\n",
    "a qual pode ser generalizada para mais que dois eventos.\n",
    "\n",
    "#### Identidade para eventos mutuamente exclusivos em um espaco amostral\n",
    "\n",
    "Uma identiade valiosa é\n",
    "\n",
    "$$ P(E) = P(E|F)P(F) + P(E|F^c)P(F^c). $$\n",
    "\n",
    "A expressão acima pode ser generalizada para $n$ eventos mutuamente exclusivos que compõem um espaço amostral. Suponha que $F_1, F_2, \\ldots, F_n$ sejam eventos mutuamente exclusivos tais que\n",
    "\n",
    "$$ \\bigcup_{i = 1}^n F_i = S. $$\n",
    "\n",
    "Em outras palavras, exatamente um dos eventos $F_1, F_2, \\ldots, F_n$ deve ocorrer. Podemos expressar um evento qualquer E como a interseção com cada um dos eventos $F_i$:\n",
    "\n",
    "$$ E = \\bigcup_{i = 1}^n EF_i. $$\n",
    "\n",
    "Em outras palavras, exatamente um dos eventos $F_1, F_2, \\ldots, F_n$ deve ocorrer. Como os eventos $F_i$ são mutuamente exclusivos, podemos escrever\n",
    "\n",
    "$$ P(E) = \\sum_{i = 1}^n P(EF_i) = \\sum_{i = 1}^n P(E|F_i)P(F_i). $$\n",
    "\n",
    "A identidade acima nos conduz ao Teorema de Bayes (ou fórmula de Bayes): \n",
    "\n",
    "$$ P(F_j|E) = \\frac{P(E|F_j) P(F_j)}{\\sum_{i = 1}^n P(E|F_i)P(F_i)}. $$\n",
    "\n",
    "Se os eventos $F_i, i = 1, \\ldots, n$ são hipóteses concorrentes, então a fórmula de Bayes mostra como calcular as probabilidades condicionais dessas hipóteses quando a evidência adicional $E$ se torna possível.\n",
    "\n",
    "#### Eventos Independentes\n",
    "\n",
    "Se $$ P(EF) = P(E)P(F), $$\n",
    "\n",
    "dizemos que os eventos $E$ e $F$ são independentes. A expressão acima também é equivalente a\n",
    "\n",
    "$$ P(E|F) = P(E) $$\n",
    "\n",
    "e \n",
    "\n",
    "$$ P(F|E) = P(E). $$\n",
    "\n",
    "Assim, os eventos $E$ e $F$ são independentes se o conhecimento da ocorrência de um deles não afetar a probabilidade do outro.\n",
    "\n",
    "#### Independência Condicional\n",
    "\n",
    "Um importante conceito da teoria de probabilidades é o da independência condicional de eventos. Dizemos que os eventos $E_1$ e $E_2$ são *condicionalmente independentes* dado $F$ se, dado que $F$ ocorreu, a probabilidade condicional de $E_1$ ocorrer não seja afetada pela informação de que $E_2$ tenha ocorrido ou não. Mais formalmente, $E_1$ e $E_2$ são ditos condicionalmente independentes dado $F$ se\n",
    "\n",
    "$$ P(E_1|E_2F) = P(E_1|F) $$\n",
    "\n",
    "ou, equivalentemente,\n",
    "\n",
    "$$ P(E_1E_2|F) = P(E_1|F) P(E_2|F). $$\n",
    "\n",
    "#### Usando a fórmula de Bayes sequencialmente\n",
    "\n",
    "Suponha que existam $n$ hipóteses mutuamente exclusivas e exaustivamente possíveis, com probabilidades iniciais (às vezes chamadas de probabilidades *a priori*) $P(H_i$, com $\\sum_{i = 1}^n P(H_i) = 1$. Agora, se a informação de que o evento $E$ ocorreu for recebida, então a probabilidade condicional de que $H_i$ seja a hipótese verdadeira (às vezes chamada de probabilidade *atualizada* ou *a posterior*) é, de acordo com a fórmula de Bayes: \n",
    "\n",
    "$$ P(H_i|E) = \\frac{P(E|H_i) P(H_i)}{\\sum_{j = 1}^n P(E|H_j)P(H_j)}. $$\n",
    "\n",
    "Suponha agora que saibamos de início que $E_1$ ocorreu e depois, que $E_2$ ocorreu. Nessa situação, a probabilidade a posterior de que a hipótese $H_i$ seja a verdadeira, sabendo que $E_1$ e $E_2$ ocorreram em sequência, é dada por\n",
    "\n",
    "$$ P(H_i|E_1E_2) = \\frac{P(E_2|H_i) P(H_i|E_1)}{\\sum_{j = 1}^n P(E_2|H_i) P(H_i|E_1)}, $$\n",
    "\n",
    "\n",
    "desde que, para cada $j = 1, 2, \\ldots, n$, os eventos $E_1$ e $E_2$ sejam condicionalmente independentes dado $H_j$, conforme já definido acima."
   ]
  }
 ],
 "metadata": {
  "kernelspec": {
   "display_name": "Python 3 (ipykernel)",
   "language": "python",
   "name": "python3"
  },
  "language_info": {
   "codemirror_mode": {
    "name": "ipython",
    "version": 3
   },
   "file_extension": ".py",
   "mimetype": "text/x-python",
   "name": "python",
   "nbconvert_exporter": "python",
   "pygments_lexer": "ipython3",
   "version": "3.11.3"
  }
 },
 "nbformat": 4,
 "nbformat_minor": 5
}
